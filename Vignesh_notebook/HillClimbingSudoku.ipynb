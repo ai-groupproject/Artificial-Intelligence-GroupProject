{
 "cells": [
  {
   "cell_type": "code",
   "execution_count": 30,
   "metadata": {},
   "outputs": [],
   "source": [
    "import numpy as np\n",
    "import random"
   ]
  },
  {
   "cell_type": "code",
   "execution_count": 2,
   "metadata": {},
   "outputs": [],
   "source": [
    "\n",
    "\n",
    "   \n",
    "\n",
    "   "
   ]
  },
  {
   "cell_type": "code",
   "execution_count": 235,
   "metadata": {},
   "outputs": [],
   "source": [
    "arr = []\n",
    "arr.append([7,0,0,0,0,9,0,0,6])\n",
    "arr.append([0,1,0,0,0,5,3,7,0])\n",
    "arr.append([0,0,4,7,6,0,0,0,0])\n",
    "arr.append([0,0,6,0,0,8,0,3,0])\n",
    "arr.append([0,0,2,0,4,0,6,0,0])\n",
    "arr.append([0,3,0,2,0,0,1,0,0])\n",
    "arr.append([0,0,0,0,8,2,7,0,0])\n",
    "arr.append([0,6,7,1,0,0,0,2,0])\n",
    "arr.append([3,0,0,5,0,0,0,0,8])\n",
    "\n",
    "# arr = []\n",
    "# arr.append([7,8,3,4,1,9,2,5,6])\n",
    "# arr.append([6,1,9,8,2,5,3,7,4])\n",
    "# arr.append([2,5,4,7,6,3,8,9,1])\n",
    "# arr.append([1,4,6,9,7,8,5,3,2])\n",
    "# arr.append([5,7,2,3,4,1,6,8,9])\n",
    "# arr.append([9,3,8,2,5,6,1,4,7])\n",
    "# arr.append([4,9,5,6,8,2,7,1,3])\n",
    "# arr.append([8,6,7,1,3,4,9,2,5])\n",
    "# arr.append([3,2,1,5,9,7,4,6,8])\n",
    "\n",
    "fixed_set = []\n",
    "def add_fixed_set(arr,col):\n",
    "    unique = []\n",
    "    for i in range(0,len(arr)):\n",
    "        if (arr[i][col]>0):\n",
    "            fixed_set.append((i,col))\n",
    "            unique.append(arr[i][col])\n",
    "    return unique\n",
    "            \n",
    "\n",
    "def gen_random(arr):\n",
    "    i=0\n",
    "    while (i<len(arr)):\n",
    "        unique = add_fixed_set(arr,i)\n",
    "        j=0\n",
    "        while (j<len(arr)):\n",
    "    #        print(i,\" \",j)\n",
    "           if (arr[j][i]==0): \n",
    "                rand = random.randint(1,9)\n",
    "                while (rand in unique):\n",
    "                    rand = random.randint(1,9)\n",
    "                arr[j][i] = rand\n",
    "                unique.append(rand)\n",
    "\n",
    "           j+=1\n",
    "        i=i+1\n",
    "    return arr"
   ]
  },
  {
   "cell_type": "code",
   "execution_count": 200,
   "metadata": {},
   "outputs": [],
   "source": [
    "def row_cost(arr,row):\n",
    "    unique = []\n",
    "    totalCost = 0\n",
    "    for i in range(0,len(arr)):\n",
    "        if arr[row][i] in unique:\n",
    "            totalCost += 1\n",
    "        else:\n",
    "            unique.append(arr[row][i])\n",
    "    return totalCost\n",
    "\n",
    "def row_costs(arr):\n",
    "    totalRowCost = 0\n",
    "    for i in range(0,len(arr)):\n",
    "        totalRowCost += row_cost(arr,i)\n",
    "    return totalRowCost\n"
   ]
  },
  {
   "cell_type": "code",
   "execution_count": 119,
   "metadata": {},
   "outputs": [],
   "source": [
    "r1 = [0,1,2]\n",
    "r2 = [3,4,5]\n",
    "r3 = [6,7,8]\n",
    "\n",
    "rList = []\n",
    "rList.append(r1)\n",
    "rList.append(r2)\n",
    "rList.append(r3)\n",
    "qlist = []\n",
    "for i in rList:\n",
    "    for j in rList:\n",
    "        qlist.append((i,j))\n",
    "        "
   ]
  },
  {
   "cell_type": "code",
   "execution_count": 191,
   "metadata": {},
   "outputs": [],
   "source": [
    "def quadrant_cost(arr,quadrant):\n",
    "    q_r,q_c = quadrant\n",
    "    unique = []\n",
    "    totalCost = 0\n",
    "    for i in q_r:\n",
    "        for j in q_c:\n",
    "            if arr[i][j] in unique:\n",
    "                totalCost += 1\n",
    "            else:\n",
    "                unique.append(arr[i][j])\n",
    "    return totalCost\n",
    "                \n",
    "def quadrant_costs(arr,qlist):\n",
    "    totalQuadrantCost = 0\n",
    "    for q in qlist:\n",
    "        totalQuadrantCost+=quadrant_cost(arr,q)\n",
    "    return totalQuadrantCost\n",
    "\n",
    "def chooseRandomRows(r1,r2,c):\n",
    "    while r1==r2 or (r1,c) in fixed_set or (r2,c) in fixed_set:    \n",
    "        r1 = random.randint(0,8)\n",
    "        r2 = random.randint(0,8)\n",
    "    return r1,r2\n",
    "\n",
    "def swap(arr,i1,j1,i2,j2):\n",
    "    temp = arr[i1][j1]\n",
    "    arr[i1][j1] = arr[i2][j2]\n",
    "    arr[i2][j2] = temp\n",
    "    return arr\n",
    "\n",
    "def findQuadrant(row,col,qlist):\n",
    "    if (row<=2 and col<=2):\n",
    "        return qlist[0]\n",
    "    elif (row<=2 and col<=5):\n",
    "        return qlist[1]\n",
    "    elif (row<=2 and col<=8):\n",
    "        return qlist[2]\n",
    "    elif (row<=5 and col<=2):\n",
    "        return qlist[3]\n",
    "    elif (row<=5 and col<=5):\n",
    "        return qlist[4]\n",
    "    elif (row<=5 and col<=8):\n",
    "        return qlist[5]\n",
    "    elif (row<=8 and col<=2):\n",
    "        return qlist[6]\n",
    "    elif (row<=8 and col<=5):\n",
    "        return qlist[7]\n",
    "    elif (row<=8 and col<=8):\n",
    "        return qlist[8]\n",
    "    "
   ]
  },
  {
   "cell_type": "code",
   "execution_count": 213,
   "metadata": {},
   "outputs": [
    {
     "data": {
      "text/plain": [
       "([6, 7, 8], [6, 7, 8])"
      ]
     },
     "execution_count": 213,
     "metadata": {},
     "output_type": "execute_result"
    }
   ],
   "source": [
    "findQuadrant(8,8,qlist)\n"
   ]
  },
  {
   "cell_type": "code",
   "execution_count": 243,
   "metadata": {},
   "outputs": [],
   "source": [
    "arr = []\n",
    "arr.append([7,0,0,0,0,9,0,0,6])\n",
    "arr.append([0,1,0,0,0,5,3,7,0])\n",
    "arr.append([0,0,4,7,6,0,0,0,0])\n",
    "arr.append([0,0,6,0,0,8,0,3,0])\n",
    "arr.append([0,0,2,0,4,0,6,0,0])\n",
    "arr.append([0,3,0,2,0,0,1,0,0])\n",
    "arr.append([0,0,0,0,8,2,7,0,0])\n",
    "arr.append([0,6,7,1,0,0,0,2,0])\n",
    "arr.append([3,0,0,5,0,0,0,0,8])\n",
    "arr = gen_random(arr)\n",
    "iterations = 0\n",
    "cost = quadrant_costs(arr,qlist) +row_costs(arr)\n",
    "while (cost>0 and iterations<=1000000):\n",
    "    c = random.randint(0,8)\n",
    "    r1,r2 = chooseRandomRows(0,0,c)\n",
    "    \n",
    "    \n",
    "    quadRange1 = findQuadrant(r1,c,qlist)\n",
    "    quadRange2 = findQuadrant(r2,c,qlist)\n",
    "    \n",
    "    oldRowCost = row_cost(arr,r1) + row_cost(arr,r2)\n",
    "    oldQuadCost = 0\n",
    "    if (quadRange1==quadRange2):\n",
    "        oldQuadCost = quadrant_cost(arr,quadRange1)*2\n",
    "    else:\n",
    "        oldQuadCost = quadrant_cost(arr,quadRange1) + quadrant_cost(arr,quadRange2)\n",
    "        \n",
    "    swap(arr,r1,c,r2,c)\n",
    "    \n",
    "    newRowCost = row_cost(arr,r1) + row_cost(arr,r2)\n",
    "    newQuadCost = 0\n",
    "    if (quadRange1==quadRange2):\n",
    "        newQuadCost = quadrant_cost(arr,quadRange1)*2\n",
    "    else:\n",
    "        newQuadCost = quadrant_cost(arr,quadRange1) + quadrant_cost(arr,quadRange2)\n",
    "#     print(oldRowCost,\" \",oldQuadCost)\n",
    "\n",
    "#     print(oldRowCost,\" \",newRowCost)\n",
    "    newCost = cost - (oldRowCost - newRowCost) - (oldQuadCost - newQuadCost)\n",
    "#     print(cost,\" \",newCost)\n",
    "    if newCost<=cost or random.randint(0,1000)<5:\n",
    "        cost = newCost\n",
    "    else:\n",
    "        swap(arr,r1,c,r2,c)\n",
    "    iterations+=1"
   ]
  },
  {
   "cell_type": "code",
   "execution_count": 236,
   "metadata": {},
   "outputs": [
    {
     "data": {
      "text/plain": [
       "45"
      ]
     },
     "execution_count": 236,
     "metadata": {},
     "output_type": "execute_result"
    }
   ],
   "source": [
    "arr = []\n",
    "arr.append([7,0,0,0,0,9,0,0,6])\n",
    "arr.append([0,1,0,0,0,5,3,7,0])\n",
    "arr.append([0,0,4,7,6,0,0,0,0])\n",
    "arr.append([0,0,6,0,0,8,0,3,0])\n",
    "arr.append([0,0,2,0,4,0,6,0,0])\n",
    "arr.append([0,3,0,2,0,0,1,0,0])\n",
    "arr.append([0,0,0,0,8,2,7,0,0])\n",
    "arr.append([0,6,7,1,0,0,0,2,0])\n",
    "arr.append([3,0,0,5,0,0,0,0,8])\n",
    "arr = gen_random(arr)\n",
    "cost = quadrant_costs(arr,qlist) +row_costs(arr)\n",
    "cost"
   ]
  },
  {
   "cell_type": "code",
   "execution_count": 244,
   "metadata": {},
   "outputs": [
    {
     "data": {
      "text/plain": [
       "[[7, 8, 3, 4, 1, 9, 2, 5, 6],\n",
       " [6, 1, 9, 8, 2, 5, 3, 7, 4],\n",
       " [2, 5, 4, 7, 6, 3, 8, 9, 1],\n",
       " [1, 4, 6, 9, 7, 8, 5, 3, 2],\n",
       " [5, 7, 2, 3, 4, 1, 6, 8, 9],\n",
       " [9, 3, 8, 2, 5, 6, 1, 4, 7],\n",
       " [4, 9, 5, 6, 8, 2, 7, 1, 3],\n",
       " [8, 6, 7, 1, 3, 4, 9, 2, 5],\n",
       " [3, 2, 1, 5, 9, 7, 4, 6, 8]]"
      ]
     },
     "execution_count": 244,
     "metadata": {},
     "output_type": "execute_result"
    }
   ],
   "source": [
    "arr"
   ]
  },
  {
   "cell_type": "code",
   "execution_count": 249,
   "metadata": {},
   "outputs": [
    {
     "data": {
      "text/plain": [
       "0"
      ]
     },
     "execution_count": 249,
     "metadata": {},
     "output_type": "execute_result"
    }
   ],
   "source": [
    "quadrant_costs(arr,qlist)"
   ]
  },
  {
   "cell_type": "code",
   "execution_count": null,
   "metadata": {},
   "outputs": [],
   "source": []
  }
 ],
 "metadata": {
  "kernelspec": {
   "display_name": "Python 3",
   "language": "python",
   "name": "python3"
  },
  "language_info": {
   "codemirror_mode": {
    "name": "ipython",
    "version": 3
   },
   "file_extension": ".py",
   "mimetype": "text/x-python",
   "name": "python",
   "nbconvert_exporter": "python",
   "pygments_lexer": "ipython3",
   "version": "3.6.5"
  }
 },
 "nbformat": 4,
 "nbformat_minor": 2
}
