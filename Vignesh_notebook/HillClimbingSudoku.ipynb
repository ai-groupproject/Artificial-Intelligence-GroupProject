{
 "cells": [
  {
   "cell_type": "code",
   "execution_count": 30,
   "metadata": {},
   "outputs": [],
   "source": [
    "import numpy as np\n",
    "import random"
   ]
  },
  {
   "cell_type": "code",
   "execution_count": 2,
   "metadata": {},
   "outputs": [],
   "source": [
    "\n",
    "\n",
    "   \n",
    "\n",
    "   "
   ]
  },
  {
   "cell_type": "code",
   "execution_count": 117,
   "metadata": {},
   "outputs": [],
   "source": [
    "arr = []\n",
    "arr.append([7,0,0,0,0,9,0,0,6])\n",
    "arr.append([0,1,0,0,0,5,3,7,0])\n",
    "arr.append([0,0,4,7,6,0,0,0,0])\n",
    "arr.append([0,0,6,0,0,8,0,3,0])\n",
    "arr.append([0,0,2,0,4,0,6,0,0])\n",
    "arr.append([0,3,0,2,0,0,1,0,0])\n",
    "arr.append([0,0,0,0,8,2,7,0,0])\n",
    "arr.append([0,6,7,1,0,0,0,2,0])\n",
    "arr.append([3,0,0,5,0,0,0,0,8])\n",
    "\n",
    "# arr = []\n",
    "# arr.append([7,8,3,4,1,9,2,5,6])\n",
    "# arr.append([6,1,9,8,2,5,3,7,4])\n",
    "# arr.append([2,5,4,7,6,3,8,9,1])\n",
    "# arr.append([1,4,6,9,7,8,5,3,2])\n",
    "# arr.append([5,7,2,3,4,1,6,8,9])\n",
    "# arr.append([9,3,8,2,5,6,1,4,7])\n",
    "# arr.append([4,9,5,6,8,2,7,1,3])\n",
    "# arr.append([8,6,7,1,3,4,9,2,5])\n",
    "# arr.append([3,2,1,5,9,7,4,6,8])\n",
    "\n",
    "fixed_set = []\n",
    "def add_fixed_set(arr,col):\n",
    "    unique = []\n",
    "    for i in range(0,len(arr)):\n",
    "        if (arr[i][col]>0):\n",
    "            fixed_set.append((i,col))\n",
    "            unique.append(arr[i][col])\n",
    "    return unique\n",
    "            \n",
    "\n",
    "i=0\n",
    "while (i<len(arr)):\n",
    "    unique = add_fixed_set(arr,i)\n",
    "    j=0\n",
    "    while (j<len(arr)):\n",
    "#        print(i,\" \",j)\n",
    "       if (arr[j][i]==0): \n",
    "            rand = random.randint(1,9)\n",
    "            while (rand in unique):\n",
    "                rand = random.randint(1,9)\n",
    "            arr[j][i] = rand\n",
    "            unique.append(rand)\n",
    "                \n",
    "       j+=1\n",
    "    i=i+1"
   ]
  },
  {
   "cell_type": "code",
   "execution_count": 118,
   "metadata": {},
   "outputs": [],
   "source": [
    "def row_cost(arr,row):\n",
    "    unique = []\n",
    "    totalCost = 0\n",
    "    for i in range(0,len(arr)):\n",
    "        if arr[row][i] in unique:\n",
    "            totalCost += 1\n",
    "        else:\n",
    "            unique.append(arr[row][i])\n",
    "    return totalCost\n",
    "\n",
    "def row_costs(arr):\n",
    "    totalRowCost = 0\n",
    "    for i in range(0,len(arr)):\n",
    "        totalRowCost += row_cost(arr,i)\n",
    "    print(totalRowCost)\n"
   ]
  },
  {
   "cell_type": "code",
   "execution_count": 119,
   "metadata": {},
   "outputs": [],
   "source": [
    "r1 = [0,1,2]\n",
    "r2 = [3,4,5]\n",
    "r3 = [6,7,8]\n",
    "\n",
    "rList = []\n",
    "rList.append(r1)\n",
    "rList.append(r2)\n",
    "rList.append(r3)\n",
    "qlist = []\n",
    "for i in rList:\n",
    "    for j in rList:\n",
    "        qlist.append((i,j))\n",
    "        "
   ]
  },
  {
   "cell_type": "code",
   "execution_count": 120,
   "metadata": {},
   "outputs": [],
   "source": [
    "def quadrant_cost(arr,quadrant):\n",
    "    q_r,q_c = quadrant\n",
    "    unique = []\n",
    "    totalCost = 0\n",
    "    for i in q_r:\n",
    "        for j in q_c:\n",
    "            if arr[i][j] in unique:\n",
    "                totalCost += 1\n",
    "            else:\n",
    "                unique.append(arr[i][j])\n",
    "    return totalCost\n",
    "                \n",
    "def quadrant_costs(arr,qlist):\n",
    "    totalQuadrantCost = 0\n",
    "    for q in qlist:\n",
    "        totalQuadrantCost+=quadrant_cost(arr,q)\n",
    "    return totalQuadrantCost\n",
    "\n",
    "def choose_random_rows(r1, r2, c, arr):\n",
    "    if (r1==r2 or (r1,c) in fixed_set )"
   ]
  },
  {
   "cell_type": "code",
   "execution_count": 116,
   "metadata": {},
   "outputs": [
    {
     "data": {
      "text/plain": [
       "0"
      ]
     },
     "execution_count": 116,
     "metadata": {},
     "output_type": "execute_result"
    }
   ],
   "source": [
    "quadrant_costs(arr,qlist)"
   ]
  },
  {
   "cell_type": "code",
   "execution_count": 99,
   "metadata": {},
   "outputs": [
    {
     "data": {
      "text/plain": [
       "[[7, 8, 1, 4, 1, 9, 9, 8, 6],\n",
       " [1, 1, 8, 9, 9, 5, 3, 7, 9],\n",
       " [5, 9, 4, 7, 6, 3, 4, 5, 5],\n",
       " [9, 2, 6, 3, 7, 8, 2, 3, 7],\n",
       " [6, 7, 2, 8, 4, 1, 6, 4, 4],\n",
       " [4, 3, 3, 2, 5, 7, 1, 6, 1],\n",
       " [8, 5, 9, 6, 8, 2, 7, 9, 2],\n",
       " [2, 6, 7, 1, 2, 6, 5, 2, 3],\n",
       " [3, 4, 5, 5, 3, 4, 8, 1, 8]]"
      ]
     },
     "execution_count": 99,
     "metadata": {},
     "output_type": "execute_result"
    }
   ],
   "source": []
  },
  {
   "cell_type": "code",
   "execution_count": null,
   "metadata": {},
   "outputs": [],
   "source": []
  }
 ],
 "metadata": {
  "kernelspec": {
   "display_name": "Python 3",
   "language": "python",
   "name": "python3"
  },
  "language_info": {
   "codemirror_mode": {
    "name": "ipython",
    "version": 3
   },
   "file_extension": ".py",
   "mimetype": "text/x-python",
   "name": "python",
   "nbconvert_exporter": "python",
   "pygments_lexer": "ipython3",
   "version": "3.6.5"
  }
 },
 "nbformat": 4,
 "nbformat_minor": 2
}
